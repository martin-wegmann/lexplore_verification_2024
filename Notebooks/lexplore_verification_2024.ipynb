{
 "cells": [
  {
   "cell_type": "code",
   "execution_count": 1,
   "id": "68b085c3-3a49-4a1d-bafe-d3feaa12f109",
   "metadata": {},
   "outputs": [],
   "source": [
    "import numpy as np\n",
    "import xarray as xr\n",
    "import netCDF4\n",
    "import os\n",
    "import datetime\n",
    "import matplotlib.pyplot as plt \n",
    "from matplotlib import cm\n",
    "import shutil\n",
    "from datetime import datetime, timedelta\n",
    "import glob\n",
    "import datetime as dt\n",
    "from os import path\n",
    "import fsspec\n",
    "import git \n",
    "import json\n",
    "import sys\n",
    "import yaml\n",
    "\n",
    "from functions_verification import *"
   ]
  },
  {
   "cell_type": "markdown",
   "id": "f00877bd-45b8-454f-8a62-a5e9f14a279a",
   "metadata": {},
   "source": [
    "## Time Range Definition"
   ]
  },
  {
   "cell_type": "code",
   "execution_count": 2,
   "id": "398d4ff7-cdf1-46df-9dd7-a6daf8190380",
   "metadata": {},
   "outputs": [],
   "source": [
    "today= datetime.today()"
   ]
  },
  {
   "cell_type": "code",
   "execution_count": 3,
   "id": "f78af179-cc4e-4394-b7fe-3fdf2f2e592c",
   "metadata": {},
   "outputs": [],
   "source": [
    "today_string=datetime.today().strftime('%Y%m%d')\n",
    "today_string2=datetime.today().strftime('%Y-%m-%d')"
   ]
  },
  {
   "cell_type": "code",
   "execution_count": 4,
   "id": "0d049faf-603a-4e5e-bae3-9738670facc4",
   "metadata": {},
   "outputs": [],
   "source": [
    "startyear=2018\n",
    "endyear=today.year"
   ]
  },
  {
   "cell_type": "markdown",
   "id": "25b966b4-956c-4ca2-ae5d-383b9521b7a4",
   "metadata": {},
   "source": [
    "## Data Read In"
   ]
  },
  {
   "cell_type": "markdown",
   "id": "f6a159b8-c83e-4628-aa7f-97288b114ddc",
   "metadata": {},
   "source": [
    "### Folder Structure"
   ]
  },
  {
   "cell_type": "code",
   "execution_count": 5,
   "id": "2403f2cf-1c45-402c-a0fc-b69ea0a33b03",
   "metadata": {},
   "outputs": [],
   "source": [
    "with open(r\"/Volumes/lexplore_hd/scripts/verification_2024.yml\", \"r\") as f:\n",
    "    directories = yaml.load(f, Loader=yaml.FullLoader)"
   ]
  },
  {
   "cell_type": "code",
   "execution_count": 6,
   "id": "af0c6ebc-af45-4bd0-9f0b-2bd80e0860c7",
   "metadata": {},
   "outputs": [],
   "source": [
    "#log(\"Creating directories\")\n",
    "#for d in directories.values():\n",
    "#    if not os.path.exists(d):\n",
    "#        os.makedirs(d)"
   ]
  },
  {
   "cell_type": "code",
   "execution_count": 7,
   "id": "4726efb9-0307-4465-8b8c-b9e448d0c6d3",
   "metadata": {},
   "outputs": [],
   "source": [
    "# defining folders\n",
    "output_folder=directories[\"plot_output_folder\"]\n",
    "\n",
    "#tchain_folder = directories[\"tchain_folder\"]\n",
    "tchain_folder_netcdf=directories[\"tchain_data_folder\"]\n",
    "\n",
    "ctd_folder = directories[\"ctd_folder\"]\n",
    "ctd_folder_netcdf = ctd_folder+\"data/Level2B/\"\n",
    "\n",
    "pp_mooring_folder=directories[\"pp_mooring_folder\"]\n",
    "pp_mooring_par_folder_netcdf=pp_mooring_folder+\"data/Level2/LexplorePPMooringPAR/\"\n",
    "pp_mooring_do_folder_netcdf=pp_mooring_folder+\"data/Level2/LexplorePPMooringDO/\"\n",
    "\n",
    "#thetis_folder = directories[\"thetis_folder\"]\n",
    "thetis_folder_netdf = directories[\"thetis_data_folder\"]\n",
    "\n",
    "#idronaut_folder = directories[\"idronaut_folder\"]\n",
    "idronaut_folder_netcdf = directories[\"idronaut_data_folder\"]\n",
    "\n",
    "scripts_folder=directories[\"scripts_folder\"]"
   ]
  },
  {
   "cell_type": "code",
   "execution_count": 8,
   "id": "b4faf103-e654-4b40-b2a5-a037b1565de1",
   "metadata": {},
   "outputs": [],
   "source": [
    "# get faulty dates for idronaut\n",
    "f = open(scripts_folder+\"idronaut_faulty.json\")\n",
    "dates2exclude = json.load(f)"
   ]
  },
  {
   "cell_type": "code",
   "execution_count": 9,
   "id": "385a5f36-a3fe-4392-9901-a02827f3e41a",
   "metadata": {},
   "outputs": [
    {
     "name": "stdout",
     "output_type": "stream",
     "text": [
      "19:11:40.496519   pull data\n"
     ]
    }
   ],
   "source": [
    "log(\"pull data\")\n",
    "try:\n",
    "    #g = git.cmd.Git(thetis_folder)\n",
    "    #g.pull()\n",
    "    g = git.cmd.Git(pp_mooring_folder)\n",
    "    g.pull()\n",
    "    #g = git.cmd.Git(tchain_folder)\n",
    "    #g.pull()\n",
    "    #g = git.cmd.Git(idronaut_folder)\n",
    "    #g.pull()\n",
    "    g = git.cmd.Git(ctd_folder)\n",
    "    g.pull()\n",
    "except:\n",
    "    log(\"Failed to pull data\")"
   ]
  },
  {
   "cell_type": "code",
   "execution_count": null,
   "id": "saved-employment",
   "metadata": {},
   "outputs": [],
   "source": []
  },
  {
   "cell_type": "markdown",
   "id": "9d441b84-823a-4d7f-b4cd-83130b7c325b",
   "metadata": {},
   "source": [
    "Pull Thetis"
   ]
  },
  {
   "cell_type": "code",
   "execution_count": 12,
   "id": "peaceful-myanmar",
   "metadata": {},
   "outputs": [],
   "source": [
    "os.chdir(thetis_folder_netdf)"
   ]
  },
  {
   "cell_type": "code",
   "execution_count": 13,
   "id": "surrounded-kuwait",
   "metadata": {},
   "outputs": [
    {
     "name": "stdout",
     "output_type": "stream",
     "text": [
      "/Volumes/lexplore_hd/core_data/thetis-multi-instrument-profiler/data/Level2\r\n"
     ]
    }
   ],
   "source": [
    "!pwd"
   ]
  },
  {
   "cell_type": "code",
   "execution_count": 14,
   "id": "89b1fe6e-3da9-414f-ad70-d2f5251dab37",
   "metadata": {},
   "outputs": [
    {
     "name": "stdout",
     "output_type": "stream",
     "text": [
      "Attempting to sync s3://eawag-data/gitlab.renkulab.io/lexplore/thetis-multi-instrument-profiler/data with /Volumes/lexplore_hd/core_data/thetis-multi-instrument-profiler/data\n",
      "download: s3://eawag-data/gitlab.renkulab.io/lexplore/thetis-multi-instrument-profiler/data/Level2/L2_THETIS_GRID_20191202_20191212.nc to ./L2_THETIS_GRID_20191202_20191212.nc\n",
      "\n",
      "Download complete.\n"
     ]
    }
   ],
   "source": [
    "!python /Volumes/lexplore_hd/core_data/thetis-multi-instrument-profiler/scripts/download_remote_data.py -w\n",
    "!rm /Volumes/lexplore_hd/core_data/thetis-multi-instrument-profiler/data/Level2/L2_THETIS_GRID_20191202_20191212.nc\n",
    "\n"
   ]
  },
  {
   "cell_type": "markdown",
   "id": "a0a9f1cb-017b-4875-bac1-9de0b3227fc9",
   "metadata": {},
   "source": [
    "Pull Idronaut"
   ]
  },
  {
   "cell_type": "code",
   "execution_count": 15,
   "id": "orange-watts",
   "metadata": {},
   "outputs": [],
   "source": [
    "os.chdir(idronaut_folder_netcdf)"
   ]
  },
  {
   "cell_type": "code",
   "execution_count": 16,
   "id": "306de227-001f-417a-a35d-9c830ceb432c",
   "metadata": {},
   "outputs": [
    {
     "name": "stdout",
     "output_type": "stream",
     "text": [
      "Attempting to sync s3://eawag-data/gitlab.renkulab.io/lexplore/idronaut-automatic-profiler/data with /Volumes/lexplore_hd/core_data/idronaut-automatic-profiler/data\n",
      "download: s3://eawag-data/gitlab.renkulab.io/lexplore/idronaut-automatic-profiler/data/Level0/Deployment2/2024-01-17@22.21.54.txt to ../Level0/Deployment2/2024-01-17@22.21.54.txt\n",
      "\n",
      "download: s3://eawag-data/gitlab.renkulab.io/lexplore/idronaut-automatic-profiler/data/Level0/Deployment2/2024-01-18@02.21.53.txt to ../Level0/Deployment2/2024-01-18@02.21.53.txt\n",
      "\n",
      "download: s3://eawag-data/gitlab.renkulab.io/lexplore/idronaut-automatic-profiler/data/Level0/Deployment2/2024-01-18@06.21.55.txt to ../Level0/Deployment2/2024-01-18@06.21.55.txt\n",
      "\n",
      "download: s3://eawag-data/gitlab.renkulab.io/lexplore/idronaut-automatic-profiler/data/Level0/Deployment2/2024-01-18@00.21.58.txt to ../Level0/Deployment2/2024-01-18@00.21.58.txt\n",
      "\n",
      "download: s3://eawag-data/gitlab.renkulab.io/lexplore/idronaut-automatic-profiler/data/Level0/Deployment2/2024-01-18@14.21.45.txt to ../Level0/Deployment2/2024-01-18@14.21.45.txt\n",
      "\n",
      "download: s3://eawag-data/gitlab.renkulab.io/lexplore/idronaut-automatic-profiler/data/Level0/Deployment2/2024-01-18@10.21.59.txt to ../Level0/Deployment2/2024-01-18@10.21.59.txt\n",
      "\n",
      "download: s3://eawag-data/gitlab.renkulab.io/lexplore/idronaut-automatic-profiler/data/Level0/Deployment2/2024-01-18@04.21.59.txt to ../Level0/Deployment2/2024-01-18@04.21.59.txt\n",
      "\n",
      "download: s3://eawag-data/gitlab.renkulab.io/lexplore/idronaut-automatic-profiler/data/Level0/Deployment2/2024-01-18@08.21.48.txt to ../Level0/Deployment2/2024-01-18@08.21.48.txt\n",
      "\n",
      "download: s3://eawag-data/gitlab.renkulab.io/lexplore/idronaut-automatic-profiler/data/Level0/Deployment2/2024-01-18@16.21.46.txt to ../Level0/Deployment2/2024-01-18@16.21.46.txt\n",
      "\n",
      "download: s3://eawag-data/gitlab.renkulab.io/lexplore/idronaut-automatic-profiler/data/Level0/Deployment2/2024-01-18@20.21.37.txt to ../Level0/Deployment2/2024-01-18@20.21.37.txt\n",
      "\n",
      "download: s3://eawag-data/gitlab.renkulab.io/lexplore/idronaut-automatic-profiler/data/Level0/Deployment2/2024-01-18@18.21.58.txt to ../Level0/Deployment2/2024-01-18@18.21.58.txt\n",
      "\n",
      "download: s3://eawag-data/gitlab.renkulab.io/lexplore/idronaut-automatic-profiler/data/Level0/Deployment2/2024-01-18@12.21.40.txt to ../Level0/Deployment2/2024-01-18@12.21.40.txt\n",
      "\n",
      "download: s3://eawag-data/gitlab.renkulab.io/lexplore/idronaut-automatic-profiler/data/Level0/Deployment2/2024-01-19@00.22.00.txt to ../Level0/Deployment2/2024-01-19@00.22.00.txt\n",
      "\n",
      "download: s3://eawag-data/gitlab.renkulab.io/lexplore/idronaut-automatic-profiler/data/Level0/Deployment2/2024-01-18@22.21.48.txt to ../Level0/Deployment2/2024-01-18@22.21.48.txt\n",
      "\n",
      "download: s3://eawag-data/gitlab.renkulab.io/lexplore/idronaut-automatic-profiler/data/Level0/Deployment2/2024-01-19@04.21.55.txt to ../Level0/Deployment2/2024-01-19@04.21.55.txt\n",
      "\n",
      "download: s3://eawag-data/gitlab.renkulab.io/lexplore/idronaut-automatic-profiler/data/Level0/Deployment2/2024-01-19@02.22.00.txt to ../Level0/Deployment2/2024-01-19@02.22.00.txt\n",
      "\n",
      "download: s3://eawag-data/gitlab.renkulab.io/lexplore/idronaut-automatic-profiler/data/Level0/Deployment2/2024-01-19@06.21.51.txt to ../Level0/Deployment2/2024-01-19@06.21.51.txt\n",
      "\n",
      "download: s3://eawag-data/gitlab.renkulab.io/lexplore/idronaut-automatic-profiler/data/Level0/Deployment2/2024-01-19@10.21.58.txt to ../Level0/Deployment2/2024-01-19@10.21.58.txt\n",
      "\n",
      "download: s3://eawag-data/gitlab.renkulab.io/lexplore/idronaut-automatic-profiler/data/Level0/Deployment2/2024-01-19@08.21.51.txt to ../Level0/Deployment2/2024-01-19@08.21.51.txt\n",
      "\n",
      "download: s3://eawag-data/gitlab.renkulab.io/lexplore/idronaut-automatic-profiler/data/Level0/Deployment2/2024-01-19@14.21.46.txt to ../Level0/Deployment2/2024-01-19@14.21.46.txt\n",
      "\n",
      "download: s3://eawag-data/gitlab.renkulab.io/lexplore/idronaut-automatic-profiler/data/Level0/Deployment2/2024-01-19@12.21.54.txt to ../Level0/Deployment2/2024-01-19@12.21.54.txt\n",
      "\n",
      "download: s3://eawag-data/gitlab.renkulab.io/lexplore/idronaut-automatic-profiler/data/Level0/Deployment2/2024-01-19@18.22.03.txt to ../Level0/Deployment2/2024-01-19@18.22.03.txt\n",
      "\n",
      "download: s3://eawag-data/gitlab.renkulab.io/lexplore/idronaut-automatic-profiler/data/Level0/Deployment2/2024-01-19@20.21.45.txt to ../Level0/Deployment2/2024-01-19@20.21.45.txt\n",
      "\n",
      "download: s3://eawag-data/gitlab.renkulab.io/lexplore/idronaut-automatic-profiler/data/Level0/Deployment2/2024-01-19@22.21.10.txt to ../Level0/Deployment2/2024-01-19@22.21.10.txt\n",
      "\n",
      "download: s3://eawag-data/gitlab.renkulab.io/lexplore/idronaut-automatic-profiler/data/Level0/Deployment2/2024-01-20@02.21.54.txt to ../Level0/Deployment2/2024-01-20@02.21.54.txt\n",
      "\n",
      "download: s3://eawag-data/gitlab.renkulab.io/lexplore/idronaut-automatic-profiler/data/Level0/Deployment2/2024-01-20@04.21.51.txt to ../Level0/Deployment2/2024-01-20@04.21.51.txt\n",
      "\n",
      "download: s3://eawag-data/gitlab.renkulab.io/lexplore/idronaut-automatic-profiler/data/Level0/Deployment2/2024-01-20@00.21.48.txt to ../Level0/Deployment2/2024-01-20@00.21.48.txt\n",
      "\n",
      "download: s3://eawag-data/gitlab.renkulab.io/lexplore/idronaut-automatic-profiler/data/Level0/Deployment2/2024-01-20@12.21.57.txt to ../Level0/Deployment2/2024-01-20@12.21.57.txt\n",
      "\n",
      "download: s3://eawag-data/gitlab.renkulab.io/lexplore/idronaut-automatic-profiler/data/Level0/Deployment2/2024-01-20@06.21.51.txt to ../Level0/Deployment2/2024-01-20@06.21.51.txt\n",
      "\n",
      "download: s3://eawag-data/gitlab.renkulab.io/lexplore/idronaut-automatic-profiler/data/Level0/Deployment2/2024-01-20@10.21.52.txt to ../Level0/Deployment2/2024-01-20@10.21.52.txt\n",
      "\n",
      "download: s3://eawag-data/gitlab.renkulab.io/lexplore/idronaut-automatic-profiler/data/Level0/Deployment2/2024-01-20@14.21.53.txt to ../Level0/Deployment2/2024-01-20@14.21.53.txt\n",
      "\n",
      "download: s3://eawag-data/gitlab.renkulab.io/lexplore/idronaut-automatic-profiler/data/Level0/Deployment2/2024-01-20@18.21.53.txt to ../Level0/Deployment2/2024-01-20@18.21.53.txt\n",
      "\n",
      "download: s3://eawag-data/gitlab.renkulab.io/lexplore/idronaut-automatic-profiler/data/Level0/Deployment2/2024-01-20@16.21.53.txt to ../Level0/Deployment2/2024-01-20@16.21.53.txt\n",
      "\n",
      "download: s3://eawag-data/gitlab.renkulab.io/lexplore/idronaut-automatic-profiler/data/Level0/Deployment2/2024-01-20@08.21.52.txt to ../Level0/Deployment2/2024-01-20@08.21.52.txt\n",
      "\n",
      "download: s3://eawag-data/gitlab.renkulab.io/lexplore/idronaut-automatic-profiler/data/Level0/Deployment2/2024-01-20@20.21.54.txt to ../Level0/Deployment2/2024-01-20@20.21.54.txt\n",
      "\n",
      "download: s3://eawag-data/gitlab.renkulab.io/lexplore/idronaut-automatic-profiler/data/Level1/L1_LexploreIdronaut_D2_20240117_222159.nc to ../Level1/L1_LexploreIdronaut_D2_20240117_222159.nc\n",
      "\n",
      "download: s3://eawag-data/gitlab.renkulab.io/lexplore/idronaut-automatic-profiler/data/Level1/L1_LexploreIdronaut_D2_20240118_122146.nc to ../Level1/L1_LexploreIdronaut_D2_20240118_122146.nc\n",
      "\n",
      "download: s3://eawag-data/gitlab.renkulab.io/lexplore/idronaut-automatic-profiler/data/Level1/L1_LexploreIdronaut_D2_20240118_002204.nc to ../Level1/L1_LexploreIdronaut_D2_20240118_002204.nc\n",
      "\n",
      "download: s3://eawag-data/gitlab.renkulab.io/lexplore/idronaut-automatic-profiler/data/Level1/L1_LexploreIdronaut_D2_20240118_142150.nc to ../Level1/L1_LexploreIdronaut_D2_20240118_142150.nc\n",
      "\n",
      "download: s3://eawag-data/gitlab.renkulab.io/lexplore/idronaut-automatic-profiler/data/Level1/L1_LexploreIdronaut_D2_20240118_022158.nc to ../Level1/L1_LexploreIdronaut_D2_20240118_022158.nc\n",
      "\n",
      "download: s3://eawag-data/gitlab.renkulab.io/lexplore/idronaut-automatic-profiler/data/Level1/L1_LexploreIdronaut_D2_20240118_062200.nc to ../Level1/L1_LexploreIdronaut_D2_20240118_062200.nc\n",
      "\n",
      "download: s3://eawag-data/gitlab.renkulab.io/lexplore/idronaut-automatic-profiler/data/Level1/L1_LexploreIdronaut_D2_20240118_042204.nc to ../Level1/L1_LexploreIdronaut_D2_20240118_042204.nc\n",
      "\n",
      "download: s3://eawag-data/gitlab.renkulab.io/lexplore/idronaut-automatic-profiler/data/Level1/L1_LexploreIdronaut_D2_20240118_162152.nc to ../Level1/L1_LexploreIdronaut_D2_20240118_162152.nc\n",
      "\n",
      "download: s3://eawag-data/gitlab.renkulab.io/lexplore/idronaut-automatic-profiler/data/Level1/L1_LexploreIdronaut_D2_20240118_102205.nc to ../Level1/L1_LexploreIdronaut_D2_20240118_102205.nc\n",
      "\n",
      "download: s3://eawag-data/gitlab.renkulab.io/lexplore/idronaut-automatic-profiler/data/Level1/L1_LexploreIdronaut_D2_20240118_082153.nc to ../Level1/L1_LexploreIdronaut_D2_20240118_082153.nc\n",
      "\n"
     ]
    },
    {
     "name": "stdout",
     "output_type": "stream",
     "text": [
      "download: s3://eawag-data/gitlab.renkulab.io/lexplore/idronaut-automatic-profiler/data/Level1/L1_LexploreIdronaut_D2_20240118_222153.nc to ../Level1/L1_LexploreIdronaut_D2_20240118_222153.nc\n",
      "\n",
      "download: s3://eawag-data/gitlab.renkulab.io/lexplore/idronaut-automatic-profiler/data/Level1/L1_LexploreIdronaut_D2_20240118_182203.nc to ../Level1/L1_LexploreIdronaut_D2_20240118_182203.nc\n",
      "\n",
      "download: s3://eawag-data/gitlab.renkulab.io/lexplore/idronaut-automatic-profiler/data/Level1/L1_LexploreIdronaut_D2_20240119_022205.nc to ../Level1/L1_LexploreIdronaut_D2_20240119_022205.nc\n",
      "\n",
      "download: s3://eawag-data/gitlab.renkulab.io/lexplore/idronaut-automatic-profiler/data/Level1/L1_LexploreIdronaut_D2_20240118_202142.nc to ../Level1/L1_LexploreIdronaut_D2_20240118_202142.nc\n",
      "\n",
      "download: s3://eawag-data/gitlab.renkulab.io/lexplore/idronaut-automatic-profiler/data/Level1/L1_LexploreIdronaut_D2_20240119_002205.nc to ../Level1/L1_LexploreIdronaut_D2_20240119_002205.nc\n",
      "\n",
      "download: s3://eawag-data/gitlab.renkulab.io/lexplore/idronaut-automatic-profiler/data/Level1/L1_LexploreIdronaut_D2_20240119_042200.nc to ../Level1/L1_LexploreIdronaut_D2_20240119_042200.nc\n",
      "\n",
      "download: s3://eawag-data/gitlab.renkulab.io/lexplore/idronaut-automatic-profiler/data/Level1/L1_LexploreIdronaut_D2_20240119_102203.nc to ../Level1/L1_LexploreIdronaut_D2_20240119_102203.nc\n",
      "\n",
      "download: s3://eawag-data/gitlab.renkulab.io/lexplore/idronaut-automatic-profiler/data/Level1/L1_LexploreIdronaut_D2_20240119_122159.nc to ../Level1/L1_LexploreIdronaut_D2_20240119_122159.nc\n",
      "\n",
      "download: s3://eawag-data/gitlab.renkulab.io/lexplore/idronaut-automatic-profiler/data/Level1/L1_LexploreIdronaut_D2_20240119_082156.nc to ../Level1/L1_LexploreIdronaut_D2_20240119_082156.nc\n",
      "\n",
      "download: s3://eawag-data/gitlab.renkulab.io/lexplore/idronaut-automatic-profiler/data/Level1/L1_LexploreIdronaut_D2_20240119_062156.nc to ../Level1/L1_LexploreIdronaut_D2_20240119_062156.nc\n",
      "\n",
      "download: s3://eawag-data/gitlab.renkulab.io/lexplore/idronaut-automatic-profiler/data/Level1/L1_LexploreIdronaut_D2_20240119_182208.nc to ../Level1/L1_LexploreIdronaut_D2_20240119_182208.nc\n",
      "\n",
      "download: s3://eawag-data/gitlab.renkulab.io/lexplore/idronaut-automatic-profiler/data/Level1/L1_LexploreIdronaut_D2_20240119_142152.nc to ../Level1/L1_LexploreIdronaut_D2_20240119_142152.nc\n",
      "\n",
      "download: s3://eawag-data/gitlab.renkulab.io/lexplore/idronaut-automatic-profiler/data/Level1/L1_LexploreIdronaut_D2_20240119_202151.nc to ../Level1/L1_LexploreIdronaut_D2_20240119_202151.nc\n",
      "\n",
      "download: s3://eawag-data/gitlab.renkulab.io/lexplore/idronaut-automatic-profiler/data/Level1/L1_LexploreIdronaut_D2_20240120_002153.nc to ../Level1/L1_LexploreIdronaut_D2_20240120_002153.nc\n",
      "\n",
      "download: s3://eawag-data/gitlab.renkulab.io/lexplore/idronaut-automatic-profiler/data/Level1/L1_LexploreIdronaut_D2_20240119_222116.nc to ../Level1/L1_LexploreIdronaut_D2_20240119_222116.nc\n",
      "\n",
      "download: s3://eawag-data/gitlab.renkulab.io/lexplore/idronaut-automatic-profiler/data/Level1/L1_LexploreIdronaut_D2_20240120_022159.nc to ../Level1/L1_LexploreIdronaut_D2_20240120_022159.nc\n",
      "\n",
      "download: s3://eawag-data/gitlab.renkulab.io/lexplore/idronaut-automatic-profiler/data/Level1/L1_LexploreIdronaut_D2_20240120_082157.nc to ../Level1/L1_LexploreIdronaut_D2_20240120_082157.nc\n",
      "\n",
      "download: s3://eawag-data/gitlab.renkulab.io/lexplore/idronaut-automatic-profiler/data/Level1/L1_LexploreIdronaut_D2_20240120_062157.nc to ../Level1/L1_LexploreIdronaut_D2_20240120_062157.nc\n",
      "\n",
      "download: s3://eawag-data/gitlab.renkulab.io/lexplore/idronaut-automatic-profiler/data/Level1/L1_LexploreIdronaut_D2_20240120_042156.nc to ../Level1/L1_LexploreIdronaut_D2_20240120_042156.nc\n",
      "\n",
      "download: s3://eawag-data/gitlab.renkulab.io/lexplore/idronaut-automatic-profiler/data/Level1/L1_LexploreIdronaut_D2_20240120_122202.nc to ../Level1/L1_LexploreIdronaut_D2_20240120_122202.nc\n",
      "\n",
      "download: s3://eawag-data/gitlab.renkulab.io/lexplore/idronaut-automatic-profiler/data/Level1/L1_LexploreIdronaut_D2_20240120_162158.nc to ../Level1/L1_LexploreIdronaut_D2_20240120_162158.nc\n",
      "\n",
      "download: s3://eawag-data/gitlab.renkulab.io/lexplore/idronaut-automatic-profiler/data/Level1/L1_LexploreIdronaut_D2_20240120_102157.nc to ../Level1/L1_LexploreIdronaut_D2_20240120_102157.nc\n",
      "\n",
      "download: s3://eawag-data/gitlab.renkulab.io/lexplore/idronaut-automatic-profiler/data/Level1/L1_LexploreIdronaut_D2_20240120_142158.nc to ../Level1/L1_LexploreIdronaut_D2_20240120_142158.nc\n",
      "\n",
      "download: s3://eawag-data/gitlab.renkulab.io/lexplore/idronaut-automatic-profiler/data/Level1/L1_LexploreIdronaut_D2_20240120_182158.nc to ../Level1/L1_LexploreIdronaut_D2_20240120_182158.nc\n",
      "\n",
      "download: s3://eawag-data/gitlab.renkulab.io/lexplore/idronaut-automatic-profiler/data/Level1/L1_LexploreIdronaut_D2_20240120_202159.nc to ../Level1/L1_LexploreIdronaut_D2_20240120_202159.nc\n",
      "\n",
      "download: s3://eawag-data/gitlab.renkulab.io/lexplore/idronaut-automatic-profiler/data/Level2/L2_LexploreIdronaut_D2_20240101_000000.nc to ./L2_LexploreIdronaut_D2_20240101_000000.nc\n",
      "\n",
      "Download complete.\n"
     ]
    }
   ],
   "source": [
    "!python /Volumes/lexplore_hd/core_data/idronaut-automatic-profiler/scripts/download_remote_data.py -w"
   ]
  },
  {
   "cell_type": "markdown",
   "id": "072c24a1-03ad-4e14-8ef9-91d350c4b844",
   "metadata": {},
   "source": [
    "Pull Temperature Chain"
   ]
  },
  {
   "cell_type": "code",
   "execution_count": 17,
   "id": "polar-india",
   "metadata": {},
   "outputs": [],
   "source": [
    "os.chdir(tchain_folder_netcdf)"
   ]
  },
  {
   "cell_type": "code",
   "execution_count": 18,
   "id": "03ebc768-e809-423d-adbe-72912227735f",
   "metadata": {},
   "outputs": [
    {
     "name": "stdout",
     "output_type": "stream",
     "text": [
      "Attempting to sync s3://eawag-data/gitlab.renkulab.io/lexplore/thermister-chain/data with /Volumes/lexplore_hd/core_data/thermister-chain/data\n",
      "download: s3://eawag-data/gitlab.renkulab.io/lexplore/thermister-chain/data/Level0/v2/LeXPLORE_EAST_TempChain_2024-01-18.dat to ../Level0/v2/LeXPLORE_EAST_TempChain_2024-01-18.dat\n",
      "\n",
      "download: s3://eawag-data/gitlab.renkulab.io/lexplore/thermister-chain/data/Level0/v2/LeXPLORE_EAST_TempChain_2024-01-21.dat to ../Level0/v2/LeXPLORE_EAST_TempChain_2024-01-21.dat\n",
      "\n",
      "download: s3://eawag-data/gitlab.renkulab.io/lexplore/thermister-chain/data/Level0/v2/LeXPLORE_EAST_TempChain_2024-01-19.dat to ../Level0/v2/LeXPLORE_EAST_TempChain_2024-01-19.dat\n",
      "\n",
      "download: s3://eawag-data/gitlab.renkulab.io/lexplore/thermister-chain/data/Level0/v2/LeXPLORE_EAST_TempChain_2024-01-20.dat to ../Level0/v2/LeXPLORE_EAST_TempChain_2024-01-20.dat\n",
      "\n",
      "download: s3://eawag-data/gitlab.renkulab.io/lexplore/thermister-chain/data/Level2/L2_LexploreTemperatureChain_v2_20240101_000000.nc to ../Level2/L2_LexploreTemperatureChain_v2_20240101_000000.nc\n",
      "\n",
      "download: s3://eawag-data/gitlab.renkulab.io/lexplore/thermister-chain/data/Level1/L1_LexploreTemperatureChain_v2_20240115_000000.nc to ./L1_LexploreTemperatureChain_v2_20240115_000000.nc\n",
      "\n",
      "Download complete.\n"
     ]
    }
   ],
   "source": [
    "!python /Volumes/lexplore_hd/core_data/thermister-chain/scripts/download_remote_data.py -w\n",
    "\n"
   ]
  },
  {
   "cell_type": "markdown",
   "id": "df740827-61d4-462d-ac4c-cab57ac3f07d",
   "metadata": {},
   "source": [
    "### read netcdf files"
   ]
  },
  {
   "cell_type": "code",
   "execution_count": null,
   "id": "cd46d4e8-0d84-4377-8109-da53509cd886",
   "metadata": {},
   "outputs": [],
   "source": [
    "\n",
    "thetis_all=read_in_allfiles(folder=thetis_folder_netdf)\n",
    "pp_do_all=read_in_allfiles(folder=pp_mooring_do_folder_netcdf)\n",
    "pp_par_all=read_in_allfiles(folder=pp_mooring_par_folder_netcdf)\n",
    "tchain_all=read_in_allfiles(folder=tchain_folder_netcdf)\n",
    "#tchain_all=tchain_all.temp.where(tchain_all.interp_temp<1)\n",
    "tchain_all=tchain_all.temp.where(tchain_all.temp_qual==0)\n",
    "tchain_all.attrs[\"source\"]=\"Temperature Chain\"\n",
    "idronaut_all=read_in_allfiles(folder=idronaut_folder_netcdf)\n",
    "ctd_all=read_in_allfiles(folder=ctd_folder_netcdf)\n"
   ]
  },
  {
   "cell_type": "code",
   "execution_count": null,
   "id": "81e73ce7-6054-4f42-b421-10ba7b1c305d",
   "metadata": {},
   "outputs": [],
   "source": [
    "thetis_depths_limit=tchain_all.depth.values[3:39]*-1"
   ]
  },
  {
   "cell_type": "code",
   "execution_count": null,
   "id": "imported-leeds",
   "metadata": {},
   "outputs": [],
   "source": [
    "manual_depths=[ -1.  ,  -1.5 ,  -2.  ,  -2.5 ,  -3.  ,  -4.  ,  -5.  ,\n",
    "        -6.  ,  -7.  ,  -8.  ,  -9.  , -10.  ,\n",
    "       -15.  , -21.  , -24.  ,\n",
    "       -30.  , -36.  , -39.  , -45.  , -51.  ]"
   ]
  },
  {
   "cell_type": "code",
   "execution_count": null,
   "id": "neither-preparation",
   "metadata": {},
   "outputs": [],
   "source": [
    "# create plotting dictionaries\n",
    "idronaut_thetis_dict=[\"chla\",\"temp\",\"sal\",\"cond\"]\n",
    "idronaut_ctd_dict=[\"chla\",\"temp\",\"pH\"]\n",
    "thetis_ctd_dict=[\"chla\",\"temp\",\"sal\",\"cond\",\"do\"]\n",
    "thetis_dict=[\"chla\",\"temp\",\"sal\",\"cond\",\"do\",\"par\"]\n",
    "idronaut_dict=[\"chla\",\"temp\",\"sal\",\"cond\",\"pH\"]\n",
    "ctd_dict=[\"chla\",\"temp\",\"sal\",\"cond\",\"pH\",\"do\"]\n",
    "cc_dict=[\"depth\",\"date\"]"
   ]
  },
  {
   "cell_type": "code",
   "execution_count": null,
   "id": "56fb285a-144e-4c40-ad7b-9fe26ff8594b",
   "metadata": {},
   "outputs": [],
   "source": [
    "thetis_all.coords['depth'] = (thetis_all.coords['depth'] * -1)\n",
    "idronaut_all.coords['Press'] = (idronaut_all.coords['Press'] * -1)\n",
    "tchain_all.coords['depth'] = (tchain_all.coords['depth'] * -1)\n",
    "ctd_all.coords['depth'] = (ctd_all.coords['depth'] * -1)\n",
    "idronaut_all=idronaut_all.rename({'Press': 'depth'})"
   ]
  },
  {
   "cell_type": "code",
   "execution_count": null,
   "id": "express-summer",
   "metadata": {},
   "outputs": [],
   "source": [
    "idronaut_all=idronaut_all.rename({'Chl': 'chla','Sal': 'sal','Temp': 'temp','Cond': 'cond'})\n",
    "ctd_all=ctd_all.rename({'Chl_A': 'chla','SALIN': 'sal','Temp': 'temp','Cond': 'cond','DO_mg': 'do'})"
   ]
  },
  {
   "cell_type": "code",
   "execution_count": null,
   "id": "gorgeous-antarctica",
   "metadata": {},
   "outputs": [],
   "source": [
    "# reducing depth information\n",
    "# reduce to same depths\n",
    "log(\"reducing depth information\")\n",
    "thetis_all_less_depths=thetis_all[thetis_dict].sel(depth=manual_depths, method='nearest')\n",
    "ctd_all_less_depths=ctd_all[ctd_dict].sel(depth=manual_depths, method='nearest')\n",
    "tchain_all_less_depths=tchain_all.sel(depth=manual_depths, method='nearest')\n",
    "idronaut_all_less_depths=idronaut_all[idronaut_dict].sel(depth=manual_depths, method='nearest')"
   ]
  },
  {
   "cell_type": "code",
   "execution_count": null,
   "id": "46d860eb-d610-4d6f-8f8b-83abd33fca89",
   "metadata": {},
   "outputs": [],
   "source": [
    "thetis_all_less_depths=thetis_all.sel(depth=thetis_depths_limit, method='nearest')\n",
    "ctd_all_less_depths=ctd_all.sel(depth=thetis_depths_limit, method='nearest')\n",
    "tchain_all_less_depths=tchain_all.sel(depth=thetis_depths_limit, method='nearest')\n",
    "idronaut_all_less_depths=idronaut_all.sel(depth=thetis_depths_limit, method='nearest')"
   ]
  },
  {
   "cell_type": "code",
   "execution_count": null,
   "id": "481f0c0f-13ac-4c65-a19b-584db329047b",
   "metadata": {},
   "outputs": [],
   "source": [
    "thetis_all_less_depths_night=get_night(thetis_all_less_depths)\n",
    "idronaut_all_less_depths_night=get_night(idronaut_all_less_depths)\n",
    "ctd_all_less_depths_night=get_night(ctd_all_less_depths)"
   ]
  },
  {
   "cell_type": "code",
   "execution_count": null,
   "id": "7ea2a2e0-8cee-4d4a-95bd-ec4817be0d9f",
   "metadata": {},
   "outputs": [],
   "source": [
    "pp_par_all_30mins=pp_par_all.resample(time='30min').mean()\n",
    "tchain_all_30mins=tchain_all_less_depths.resample(time='30min').mean()  \n",
    "pp_do_all_30mins=pp_do_all.resample(time='30min').mean()\n",
    "pp_do_all_30mins.attrs[\"source\"]=\"PP Mooring\"\n",
    "pp_do_all_30mins.attrs[\"units\"]=thetis_all.do.units\n",
    "pp_par_all_30mins.attrs[\"source\"]=\"PP Mooring\"\n",
    "pp_par_all_30mins.attrs[\"units\"]=thetis_all.par.units\n",
    "tchain_all_30mins.attrs[\"source\"]=\"Temperature Chain\"\n",
    "tchain_all_30mins.attrs[\"units\"]=thetis_all.temp.units"
   ]
  },
  {
   "cell_type": "code",
   "execution_count": null,
   "id": "a9a7ff74-ccb7-4a15-82fc-753d102e444f",
   "metadata": {},
   "outputs": [],
   "source": [
    "plot_clim(thetis_all,\"temp\",output_folder=output_folder,cmap=\"inferno\",res=\"daily\")\n",
    "plot_clim(thetis_all,\"temp\",output_folder=output_folder,cmap=\"inferno\",res=\"monthly\")\n",
    "plot_samples(thetis_all,\"temp\",output_folder=output_folder,cmap=\"viridis\",res=\"monthly\")\n",
    "plot_samples(idronaut_all,\"Temp\",output_folder=output_folder,cmap=\"viridis\",res=\"monthly\")\n",
    "plot_samples(tchain_all,\"tchain\",output_folder=output_folder,cmap=\"viridis\",res=\"monthly\")\n",
    "plot_samples(ctd_all,\"Temp\",output_folder=output_folder,cmap=\"viridis\",res=\"monthly\")"
   ]
  },
  {
   "cell_type": "code",
   "execution_count": null,
   "id": "fadc848b-33be-4805-9d3a-b99c4abb495b",
   "metadata": {},
   "outputs": [],
   "source": [
    "thetis_tchain_intersect_nearest,tchain_thetis_intersect_nearest=verification(thetis_all_less_depths,tchain_all_30mins)\n",
    "idronaut_tchain_intersect_nearest,tchain_idronaut_intersect_nearest=verification(idronaut_all_less_depths,tchain_all_30mins)\n",
    "thetis_ctd_intersect_nearest,ctd_thetis_intersect_nearest=verification(thetis_all_less_depths,ctd_all_less_depths)\n",
    "tchain_ctd_intersect_nearest,ctd_tchain_intersect_nearest=verification(tchain_all_30mins,ctd_all_less_depths)\n",
    "thetis_idronaut_intersect_nearest,idronaut_thetis_intersect_nearest=verification(thetis_all_less_depths,idronaut_all_less_depths)\n",
    "ctd_idronaut_intersect_nearest,idronaut_ctd_intersect_nearest=verification(ctd_all_less_depths,idronaut_all_less_depths)\n",
    "idronaut_tchain_intersect_nearest,tchain_idronaut_intersect_nearest=verification(idronaut_all_less_depths,tchain_all_30mins)\n",
    "thetis_idronaut_intersect_nearest_night,idronaut_thetis_intersect_nearest_night=verification(thetis_all_less_depths_night,idronaut_all_less_depths_night)\n",
    "thetis_pp_par_intersect_nearest,pp_par_thetis_intersect_nearest=verification(thetis_all_less_depths,pp_par_all_30mins)\n",
    "ctd_pp_do_intersect_nearest,pp_do_ctd_intersect_nearest=verification(ctd_all_less_depths,pp_do_all_30mins) \n",
    "thetis_idronaut_intersect_nearest_night,idronaut_thetis_intersect_nearest_night=verification(thetis_all_less_depths_night,idronaut_all_less_depths_night)\n",
    "ctd_idronaut_intersect_nearest_night,idronaut_ctd_intersect_nearest_night=verification(ctd_all_less_depths_night,idronaut_all_less_depths_night)\n",
    "thetis_pp_do_intersect_nearest,pp_do_thetis_intersect_nearest=verification(thetis_all_less_depths,pp_do_all_30mins)\n",
    "\n"
   ]
  },
  {
   "cell_type": "code",
   "execution_count": null,
   "id": "abandoned-verse",
   "metadata": {},
   "outputs": [],
   "source": [
    "pp_do_thetis_intersect_nearest=pp_do_thetis_intersect_nearest.load()\n",
    "pp_par_thetis_intersect_nearest=pp_par_thetis_intersect_nearest.load()\n",
    "tchain_thetis_intersect_nearest=tchain_thetis_intersect_nearest.load()\n",
    "tchain_idronaut_intersect_nearest=tchain_idronaut_intersect_nearest.load()\n",
    "pp_do_ctd_intersect_nearest=pp_do_ctd_intersect_nearest.load()"
   ]
  },
  {
   "cell_type": "code",
   "execution_count": null,
   "id": "coral-clone",
   "metadata": {},
   "outputs": [],
   "source": [
    "ver_plotting(thetis_ctd_intersect_nearest,ctd_thetis_intersect_nearest,\"temp\",\"Temp\",output_folder,cc=\"date\")\n",
    "ver_plotting(thetis_ctd_intersect_nearest,ctd_thetis_intersect_nearest,\"chla\",\"Chl_A\",output_folder,cc=\"date\")\n",
    "ver_plotting(thetis_ctd_intersect_nearest,ctd_thetis_intersect_nearest,\"do\",\"DO_mg\",output_folder,cc=\"date\")\n",
    "ver_plotting(thetis_ctd_intersect_nearest,ctd_thetis_intersect_nearest,\"cond\",\"Cond\",output_folder,cc=\"date\")\n",
    "ver_plotting(thetis_ctd_intersect_nearest,ctd_thetis_intersect_nearest,\"sal\",\"SALIN\",output_folder,cc=\"date\")\n",
    "ver_plotting(thetis_ctd_intersect_nearest,ctd_thetis_intersect_nearest,\"temp\",\"Temp\",output_folder,cc=\"depth\")\n",
    "ver_plotting(thetis_ctd_intersect_nearest,ctd_thetis_intersect_nearest,\"chla\",\"Chl_A\",output_folder,cc=\"depth\")\n",
    "ver_plotting(thetis_ctd_intersect_nearest,ctd_thetis_intersect_nearest,\"do\",\"DO_mg\",output_folder,cc=\"depth\")\n",
    "ver_plotting(thetis_ctd_intersect_nearest,ctd_thetis_intersect_nearest,\"cond\",\"Cond\",output_folder,cc=\"depth\")\n",
    "ver_plotting(thetis_ctd_intersect_nearest,ctd_thetis_intersect_nearest,\"sal\",\"SALIN\",output_folder,cc=\"depth\")\n",
    "\n"
   ]
  },
  {
   "cell_type": "code",
   "execution_count": null,
   "id": "challenging-requirement",
   "metadata": {},
   "outputs": [],
   "source": [
    "ver_plotting(thetis_idronaut_intersect_nearest,idronaut_thetis_intersect_nearest,\"temp\",\"Temp\",output_folder,cc=\"date\")\n",
    "ver_plotting(thetis_idronaut_intersect_nearest,idronaut_thetis_intersect_nearest,\"temp\",\"Temp\",output_folder,cc=\"depth\")\n",
    "\n"
   ]
  },
  {
   "cell_type": "code",
   "execution_count": null,
   "id": "banned-mambo",
   "metadata": {},
   "outputs": [],
   "source": [
    "ver_plotting(ctd_idronaut_intersect_nearest,idronaut_ctd_intersect_nearest,\"Temp\",\"Temp\",output_folder,cc=\"date\")\n",
    "ver_plotting(ctd_idronaut_intersect_nearest,idronaut_ctd_intersect_nearest,\"Temp\",\"Temp\",output_folder,cc=\"depth\")\n",
    "ver_plotting(ctd_idronaut_intersect_nearest,idronaut_ctd_intersect_nearest,\"Chl_A\",\"Chl\",output_folder,cc=\"date\")\n",
    "ver_plotting(ctd_idronaut_intersect_nearest,idronaut_ctd_intersect_nearest,\"Chl_A\",\"Chl\",output_folder,cc=\"depth\")\n",
    "ver_plotting(ctd_idronaut_intersect_nearest,idronaut_ctd_intersect_nearest,\"pH\",\"pH\",output_folder,cc=\"date\")\n",
    "ver_plotting(ctd_idronaut_intersect_nearest,idronaut_ctd_intersect_nearest,\"pH\",\"pH\",output_folder,cc=\"depth\")\n",
    "\n"
   ]
  },
  {
   "cell_type": "code",
   "execution_count": null,
   "id": "internal-stopping",
   "metadata": {},
   "outputs": [],
   "source": [
    "ver_plotting(ctd_idronaut_intersect_nearest,idronaut_ctd_intersect_nearest,\"Temp\",\"Temp\",output_folder,cc=\"hour\",grid=False)\n",
    "\n"
   ]
  },
  {
   "cell_type": "code",
   "execution_count": null,
   "id": "scientific-donor",
   "metadata": {},
   "outputs": [],
   "source": [
    "dataset1_time=dataset1.time.values\n",
    "dataset2_time=dataset2.time.values\n",
    "#rounding to the closest hour\n",
    "dataset1_hour=np.array(dataset1_time, dtype='datetime64[h]')\n",
    "dataset2_hour=np.array(dataset2_time, dtype='datetime64[h]')\n",
    "# precise overlap over the next hour\n",
    "time_intersect=np.intersect1d(dataset1_hour,dataset2_hour)\n",
    "# select common overlap time steps\n",
    "dataset1_dataset2_intersect_nearest=dataset1.sel(time=time_intersect, method='nearest')\n",
    "dataset2_dataset1_intersect_nearest=dataset2.sel(time=time_intersect, method='nearest')"
   ]
  },
  {
   "cell_type": "code",
   "execution_count": null,
   "id": "atmospheric-producer",
   "metadata": {},
   "outputs": [],
   "source": [
    "for i in thetis_ctd_dict:\n",
    "    for b in cc_dict:"
   ]
  },
  {
   "cell_type": "code",
   "execution_count": null,
   "id": "published-indianapolis",
   "metadata": {},
   "outputs": [],
   "source": [
    "def ver_plotting(dataset1,dataset2,var1,var2,output_folder,cc=\"depth\",grid=True):\n",
    "    today_string=datetime.today().strftime('%Y%m%d')\n",
    "    z=dataset1.depth.values\n",
    "    z_scaled=(z-z.min())/z.ptp()\n",
    "    colors=plt.cm.viridis(z_scaled,len(z))\n",
    "    day_in_year,date_index,hour=get_time(dataset1)\n",
    "    day_scaled=(np.array(day_in_year)-min(day_in_year))/np.ptp(day_in_year)\n",
    "    colors_day=plt.cm.viridis(day_scaled)\n",
    "    date_scaled=(np.array(date_index)-min(date_index))/np.ptp(date_index)\n",
    "    colors_date=plt.cm.viridis(date_scaled)\n",
    "    hour_scaled=(np.array(hour)-min(hour))/np.ptp(hour)\n",
    "    colors_hour=plt.cm.viridis(hour_scaled)\n",
    "    \n",
    "    if cc==\"date\":\n",
    "        amount_dates=len(date_index)\n",
    "        fig = plt.figure(figsize=(13, 7))\n",
    "        for i in range(amount_dates):\n",
    "            plt.scatter(dataset1[var1][:,i],dataset2[var2][:,i],color=colors_date[i],alpha=0.5, label=date_index[i])\n",
    "        title=dataset1.source+\" vs \"+dataset2.source+\" \"+ dataset1[var1].long_name\n",
    "        plt.title(title)\n",
    "        color_code=cc\n",
    "        cbar=plt.colorbar(ticks=[0, 1], label=color_code)\n",
    "    if cc==\"depth\":\n",
    "        amount_depth=len(z)\n",
    "        fig = plt.figure(figsize=(13, 7))\n",
    "        for i in range(amount_depth):\n",
    "            plt.scatter(dataset1[var1][i,:],dataset2[var2][i,:],color=colors[i],alpha=0.5, label=z[i])\n",
    "        title=dataset1.source+\" vs \"+dataset2.source+\" \"+ dataset1[var1].long_name\n",
    "        plt.title(title)\n",
    "        color_code=cc\n",
    "        cbar=plt.colorbar(ticks=[0, 1], label=color_code)\n",
    "    if cc==\"hour\":\n",
    "        amount_depth=len(hour)\n",
    "        fig = plt.figure(figsize=(13, 7))\n",
    "        for i in range(amount_depth):\n",
    "            plt.scatter(dataset1[var1][:,i],dataset2[var2][:,i],color=colors_hour[i],alpha=0.5, label=hour[i])\n",
    "        title=dataset1.source+\" vs \"+dataset2.source+\" \"+ dataset1[var1].long_name\n",
    "        plt.title(title)\n",
    "        color_code=cc\n",
    "        cbar=plt.colorbar(ticks=[0, 1], label=color_code)\n",
    "        \n",
    "    plt.xlabel(dataset1.source+\" \"+dataset1[var1].units)\n",
    "    plt.ylabel(dataset2.source+\" \"+dataset2[var2].units)\n",
    "    #plt.legend()\n",
    "    if cc==\"date\":\n",
    "        cbar.ax.set_yticklabels([min(date_index),max(date_index)]) \n",
    "    if cc==\"depth\":\n",
    "        cbar.ax.set_yticklabels([min(z),max(z)])\n",
    "    if cc==\"hour\":\n",
    "        cbar.ax.set_yticklabels([min(hour),max(hour)]) \n",
    "    if grid==True:\n",
    "        plt.grid()\n",
    "    xpoints=ypoints=plt.xlim()\n",
    "    plt.plot(xpoints,ypoints,color=\"k\",lw=3,scalex=False,scaley=False,alpha=0.2)\n",
    "    fig.savefig(os.path.join(output_folder,today_string+\" \"+title+\" \"+color_code+\".pdf\"))\n",
    "    plt.close('all')\n",
    "    return print(\"Figure saved: \"+title+\" \"+color_code+\".pdf\")"
   ]
  },
  {
   "cell_type": "code",
   "execution_count": null,
   "id": "subject-details",
   "metadata": {},
   "outputs": [],
   "source": []
  },
  {
   "cell_type": "code",
   "execution_count": null,
   "id": "built-output",
   "metadata": {},
   "outputs": [],
   "source": [
    "# experiment\n",
    "\n",
    "thetis_all.sel(time=slice(\"2021-02-26\",\"2022-10-26\"))"
   ]
  }
 ],
 "metadata": {
  "kernelspec": {
   "display_name": "Python (temprec)",
   "language": "python",
   "name": "temprec"
  },
  "language_info": {
   "codemirror_mode": {
    "name": "ipython",
    "version": 3
   },
   "file_extension": ".py",
   "mimetype": "text/x-python",
   "name": "python",
   "nbconvert_exporter": "python",
   "pygments_lexer": "ipython3",
   "version": "3.7.9"
  }
 },
 "nbformat": 4,
 "nbformat_minor": 5
}
