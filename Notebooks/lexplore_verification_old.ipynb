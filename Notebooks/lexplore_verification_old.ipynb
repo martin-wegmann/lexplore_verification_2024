{
 "cells": [
  {
   "cell_type": "code",
   "execution_count": 1,
   "metadata": {},
   "outputs": [],
   "source": [
    "import numpy as np\n",
    "import xarray as xr\n",
    "import netCDF4\n",
    "import os\n",
    "import datetime\n",
    "import matplotlib.pyplot as plt \n",
    "from matplotlib import cm\n",
    "import shutil\n",
    "from datetime import datetime, timedelta\n",
    "import glob\n",
    "import datetime as dt\n",
    "from os import path\n",
    "import fsspec\n",
    "import json\n",
    "import sys\n",
    "import yaml\n",
    "\n",
    "from functions_verification import *"
   ]
  },
  {
   "cell_type": "markdown",
   "metadata": {},
   "source": [
    "## Time Range Definition"
   ]
  },
  {
   "cell_type": "code",
   "execution_count": 2,
   "metadata": {},
   "outputs": [],
   "source": [
    "today= datetime.today()"
   ]
  },
  {
   "cell_type": "code",
   "execution_count": 3,
   "metadata": {},
   "outputs": [],
   "source": [
    "today_string=datetime.today().strftime('%Y%m%d')\n",
    "today_string2=datetime.today().strftime('%Y-%m-%d')"
   ]
  },
  {
   "cell_type": "code",
   "execution_count": 4,
   "metadata": {},
   "outputs": [],
   "source": [
    "startyear=2018\n",
    "endyear=today.year"
   ]
  },
  {
   "cell_type": "markdown",
   "metadata": {},
   "source": [
    "## Data Read In"
   ]
  },
  {
   "cell_type": "code",
   "execution_count": 5,
   "metadata": {},
   "outputs": [],
   "source": [
    "#with open(r\"scripts/input_python.yaml\", \"r\") as f:\n",
    "#    directories = yaml.load(f, Loader=yaml.FullLoader)"
   ]
  },
  {
   "cell_type": "code",
   "execution_count": 6,
   "metadata": {},
   "outputs": [],
   "source": [
    "with open(r\"/Volumes/lexplore_hd/scripts/input_python.yaml\", \"r\") as f:\n",
    "    directories = yaml.load(f, Loader=yaml.FullLoader)"
   ]
  },
  {
   "cell_type": "code",
   "execution_count": 7,
   "metadata": {},
   "outputs": [
    {
     "data": {
      "text/plain": [
       "'/Users/mwegmann/scripts/input_python.yaml'"
      ]
     },
     "execution_count": 7,
     "metadata": {},
     "output_type": "execute_result"
    }
   ],
   "source": [
    "os.path.abspath(\"scripts/input_python.yaml\")"
   ]
  },
  {
   "cell_type": "code",
   "execution_count": 8,
   "metadata": {},
   "outputs": [
    {
     "name": "stdout",
     "output_type": "stream",
     "text": [
      "10:37:30.886488   Creating directories\n"
     ]
    }
   ],
   "source": [
    "log(\"Creating directories\")\n",
    "for d in directories.values():\n",
    "    if not os.path.exists(d):\n",
    "        os.makedirs(d)"
   ]
  },
  {
   "cell_type": "code",
   "execution_count": 9,
   "metadata": {},
   "outputs": [],
   "source": [
    "# defining folders\n",
    "output_folder=directories[\"plot_output_folder\"]\n",
    "tchain_folder_netcdf= directories[\"tchain_folder\"]\n",
    "ctd_folder_netcdf = directories[\"ctd_folder\"]\n",
    "pp_mooring_par_folder_netcdf=directories[\"pp_mooring_folder_par\"]\n",
    "pp_mooring_do_folder_netcdf=directories[\"pp_mooring_folder_do\"]\n",
    "thetis_folder_netdf = directories[\"thetis_folder\"]\n",
    "idronaut_folder_netcdf = directories[\"idronaut_folder\"]\n",
    "scripts_folder=directories[\"scripts_folder\"]"
   ]
  },
  {
   "cell_type": "code",
   "execution_count": 10,
   "metadata": {},
   "outputs": [],
   "source": [
    "# get faulty dates for idronaut\n",
    "f = open(os.path.join(scripts_folder, \"idronaut_faulty.json\"))\n",
    "dates2exclude = json.load(f)"
   ]
  },
  {
   "cell_type": "code",
   "execution_count": 11,
   "metadata": {},
   "outputs": [
    {
     "name": "stdout",
     "output_type": "stream",
     "text": [
      "10:37:30.921585   read in netcdf data\n"
     ]
    }
   ],
   "source": [
    "log(\"read in netcdf data\")\n",
    "try:\n",
    "    thetis_all=read_in_multiple_files(startyear=startyear,endyear=endyear,folder=thetis_folder_netdf,pr=False)\n",
    "    pp_do_all=read_in_multiple_files(startyear=startyear,endyear=endyear,folder=pp_mooring_do_folder_netcdf,pr=False)\n",
    "    pp_par_all=read_in_multiple_files(startyear=startyear,endyear=endyear,folder=pp_mooring_par_folder_netcdf,pr=False)\n",
    "    tchain_all=read_in_multiple_files(startyear=startyear,endyear=endyear,folder=tchain_folder_netcdf,pr=False)\n",
    "    tchain_all=tchain_all.temp.where(tchain_all.interp_temp<1)\n",
    "    tchain_all.attrs[\"source\"]=\"Temperature Chain\"\n",
    "    idronaut_all=read_in_multiple_files(startyear=startyear,endyear=endyear,folder=idronaut_folder_netcdf,pr=False)\n",
    "    ctd_all=read_in_multiple_files(startyear=startyear,endyear=endyear,folder=ctd_folder_netcdf,pr=False)\n",
    "except:\n",
    "    log(\"Failed to read in netcdf data\")"
   ]
  },
  {
   "cell_type": "markdown",
   "metadata": {},
   "source": [
    "## Manual deletion of questionable data"
   ]
  },
  {
   "cell_type": "code",
   "execution_count": 12,
   "metadata": {},
   "outputs": [
    {
     "name": "stdout",
     "output_type": "stream",
     "text": [
      "10:40:58.878921   manual deletion of faulty outliers\n"
     ]
    }
   ],
   "source": [
    "log(\"manual deletion of faulty outliers\")\n",
    "try:\n",
    "    pp_do_all=clean_pp(pp_do_all,var=\"do\")\n",
    "    pp_par_all=clean_pp(pp_par_all,var=\"par\")\n",
    "    idronaut_all=clean_idronaut(idronaut_all,dates2exclude=dates2exclude)\n",
    "except:\n",
    "    log(\"Failed manual deletion of faulty outliers\")"
   ]
  },
  {
   "cell_type": "markdown",
   "metadata": {},
   "source": [
    "## PostProcessing"
   ]
  },
  {
   "cell_type": "code",
   "execution_count": 13,
   "metadata": {},
   "outputs": [],
   "source": [
    "# define common depth\n",
    "thetis_depths_limit=tchain_all.depth.values[3:35]*-1"
   ]
  },
  {
   "cell_type": "code",
   "execution_count": 14,
   "metadata": {},
   "outputs": [],
   "source": [
    "manual_depths=[ -1.  ,  -1.5 ,  -2.  ,  -2.5 ,  -3.  ,  -4.  ,  -5.  ,\n",
    "        -6.  ,  -7.  ,  -8.  ,  -9.  , -10.  ,\n",
    "       -15.  , -21.  , -24.  ,\n",
    "       -30.  , -36.  , -39.  , -45.  , -51.  ]"
   ]
  },
  {
   "cell_type": "code",
   "execution_count": 15,
   "metadata": {},
   "outputs": [
    {
     "name": "stdout",
     "output_type": "stream",
     "text": [
      "10:41:01.715772   change depth coordinates for easier plotting\n"
     ]
    }
   ],
   "source": [
    "# change depth coordinates for easier plotting\n",
    "log(\"change depth coordinates for easier plotting\")\n",
    "thetis_all.coords['depth'] = (thetis_all.coords['depth'] * -1)\n",
    "idronaut_all.coords['Press'] = (idronaut_all.coords['Press'] * -1)\n",
    "tchain_all.coords['depth'] = (tchain_all.coords['depth'] * -1)\n",
    "ctd_all.coords['depth'] = (ctd_all.coords['depth'] * -1)\n",
    "idronaut_all=idronaut_all.rename({'Press': 'depth'})"
   ]
  },
  {
   "cell_type": "code",
   "execution_count": 16,
   "metadata": {},
   "outputs": [
    {
     "name": "stdout",
     "output_type": "stream",
     "text": [
      "10:41:01.724765   rename variables\n"
     ]
    }
   ],
   "source": [
    "#rename variables\n",
    "log(\"rename variables\")\n",
    "idronaut_all=idronaut_all.rename({'Chl': 'chla','Sal': 'sal','Temp': 'temp','Cond': 'cond'})\n",
    "ctd_all=ctd_all.rename({'Chl_A': 'chla','SALIN': 'sal','Temp': 'temp','Cond': 'cond','DO_mg': 'do'})"
   ]
  },
  {
   "cell_type": "code",
   "execution_count": 17,
   "metadata": {},
   "outputs": [],
   "source": [
    "# create plotting dictionaries\n",
    "idronaut_thetis_dict=[\"chla\",\"temp\",\"sal\",\"cond\"]\n",
    "idronaut_ctd_dict=[\"chla\",\"temp\",\"pH\"]\n",
    "thetis_ctd_dict=[\"chla\",\"temp\",\"sal\",\"cond\",\"do\"]\n",
    "thetis_dict=[\"chla\",\"temp\",\"sal\",\"cond\",\"do\",\"par\"]\n",
    "idronaut_dict=[\"chla\",\"temp\",\"sal\",\"cond\",\"pH\"]\n",
    "ctd_dict=[\"chla\",\"temp\",\"sal\",\"cond\",\"pH\",\"do\"]\n",
    "cc_dict=[\"depth\",\"date\"]"
   ]
  },
  {
   "cell_type": "code",
   "execution_count": 18,
   "metadata": {},
   "outputs": [],
   "source": [
    "# reducing depth information\n",
    "# reduce to same depths\n",
    "#log(\"reducing depth information\")\n",
    "#thetis_all_less_depths=thetis_all.sel(depth=thetis_depths_limit, method='nearest')\n",
    "#ctd_all_less_depths=ctd_all.sel(depth=thetis_depths_limit, method='nearest')\n",
    "#tchain_all_less_depths=tchain_all.sel(depth=thetis_depths_limit, method='nearest')\n",
    "#idronaut_all_less_depths=idronaut_all.sel(depth=thetis_depths_limit, method='nearest')"
   ]
  },
  {
   "cell_type": "code",
   "execution_count": 19,
   "metadata": {},
   "outputs": [
    {
     "name": "stdout",
     "output_type": "stream",
     "text": [
      "10:41:01.740605   reducing depth information\n"
     ]
    }
   ],
   "source": [
    "# reducing depth information\n",
    "# reduce to same depths\n",
    "log(\"reducing depth information\")\n",
    "thetis_all_less_depths=thetis_all[thetis_dict].sel(depth=manual_depths, method='nearest')\n",
    "ctd_all_less_depths=ctd_all[ctd_dict].sel(depth=manual_depths, method='nearest')\n",
    "tchain_all_less_depths=tchain_all.sel(depth=manual_depths, method='nearest')\n",
    "idronaut_all_less_depths=idronaut_all[idronaut_dict].sel(depth=manual_depths, method='nearest')"
   ]
  },
  {
   "cell_type": "code",
   "execution_count": 20,
   "metadata": {},
   "outputs": [
    {
     "name": "stdout",
     "output_type": "stream",
     "text": [
      "10:41:01.760173   create night only files\n"
     ]
    }
   ],
   "source": [
    "# night only values\n",
    "log(\"create night only files\")\n",
    "thetis_all_less_depths_night=get_night(thetis_all_less_depths)\n",
    "idronaut_all_less_depths_night=get_night(idronaut_all_less_depths)\n",
    "ctd_all_less_depths_night=get_night(ctd_all_less_depths)"
   ]
  },
  {
   "cell_type": "code",
   "execution_count": 21,
   "metadata": {},
   "outputs": [
    {
     "name": "stdout",
     "output_type": "stream",
     "text": [
      "10:41:33.204599   reduce the temporal high resolution instruments to lower resolution\n"
     ]
    }
   ],
   "source": [
    "# reduce the temporal high resolution instruments to lower resolution\n",
    "log(\"reduce the temporal high resolution instruments to lower resolution\")\n",
    "try:\n",
    "    pp_par_all_30mins=pp_par_all.resample(time='30min').mean()\n",
    "    tchain_all_30mins=tchain_all_less_depths.resample(time='30min').mean()  \n",
    "    pp_do_all_30mins=pp_do_all.resample(time='30min').mean()\n",
    "    pp_do_all_30mins.attrs[\"source\"]=\"PP Mooring\"\n",
    "    pp_do_all_30mins.attrs[\"units\"]=thetis_all.do.units\n",
    "    pp_par_all_30mins.attrs[\"source\"]=\"PP Mooring\"\n",
    "    pp_par_all_30mins.attrs[\"units\"]=thetis_all.par.units\n",
    "    tchain_all_30mins.attrs[\"source\"]=\"Temperature Chain\"\n",
    "    tchain_all_30mins.attrs[\"units\"]=thetis_all.temp.units\n",
    "except:\n",
    "    log(\"Failed to reduce the temporal high resolution instruments to lower resolution\")"
   ]
  },
  {
   "cell_type": "code",
   "execution_count": 22,
   "metadata": {},
   "outputs": [
    {
     "name": "stdout",
     "output_type": "stream",
     "text": [
      "10:53:15.841084   plot climatology and availability\n"
     ]
    },
    {
     "name": "stderr",
     "output_type": "stream",
     "text": [
      "/Users/mwegmann/miniconda2/envs/temprec/lib/python3.7/site-packages/dask/array/numpy_compat.py:41: RuntimeWarning: invalid value encountered in true_divide\n",
      "  x = np.divide(x1, x2, out)\n"
     ]
    },
    {
     "name": "stdout",
     "output_type": "stream",
     "text": [
      "Figure saved: Thetis CTD daily temperature Climatology.pdf\n",
      "Figure saved: Thetis CTD monthly temperature Climatology.pdf\n",
      "Figure saved: Thetis CTD monthly temperature sample size.pdf\n",
      "Figure saved: Idronaut monthly temperature sample size.pdf\n",
      "Figure saved: Temperature Chain monthly temperature sample size.pdf\n",
      "Figure saved: LéXPLORE CTD monthly temperature sample size.pdf\n"
     ]
    }
   ],
   "source": [
    "# 12 hour means\n",
    "log(\"plot climatology and availability\")\n",
    "try:\n",
    "    plot_clim(thetis_all,\"temp\",output_folder=output_folder,cmap=\"inferno\",res=\"daily\")\n",
    "    plot_clim(thetis_all,\"temp\",output_folder=output_folder,cmap=\"inferno\",res=\"monthly\")\n",
    "    plot_samples(thetis_all,\"temp\",output_folder=output_folder,cmap=\"viridis\",res=\"monthly\")\n",
    "    plot_samples(idronaut_all,\"temp\",output_folder=output_folder,cmap=\"viridis\",res=\"monthly\")\n",
    "    plot_samples(tchain_all,\"tchain\",output_folder=output_folder,cmap=\"viridis\",res=\"monthly\")\n",
    "    plot_samples(ctd_all,\"temp\",output_folder=output_folder,cmap=\"viridis\",res=\"monthly\")\n",
    "except:\n",
    "    log(\"Failed to plot climatology and availability\")"
   ]
  },
  {
   "cell_type": "code",
   "execution_count": 23,
   "metadata": {},
   "outputs": [
    {
     "data": {
      "text/plain": [
       "128"
      ]
     },
     "execution_count": 23,
     "metadata": {},
     "output_type": "execute_result"
    }
   ],
   "source": [
    "sys.getsizeof(pp_do_all_30mins)"
   ]
  },
  {
   "cell_type": "markdown",
   "metadata": {},
   "source": [
    "# Selecting matching observations"
   ]
  },
  {
   "cell_type": "code",
   "execution_count": 24,
   "metadata": {},
   "outputs": [
    {
     "name": "stdout",
     "output_type": "stream",
     "text": [
      "10:53:54.577581   Selecting matching observations between instruments\n"
     ]
    }
   ],
   "source": [
    "# 12 hour means\n",
    "log(\"Selecting matching observations between instruments\")\n",
    "try:\n",
    "    thetis_tchain_intersect_nearest,tchain_thetis_intersect_nearest=verification(thetis_all_less_depths,tchain_all_30mins)\n",
    "    idronaut_tchain_intersect_nearest,tchain_idronaut_intersect_nearest=verification(idronaut_all_less_depths,tchain_all_30mins)\n",
    "    thetis_ctd_intersect_nearest,ctd_thetis_intersect_nearest=verification(thetis_all_less_depths,ctd_all_less_depths)\n",
    "    thetis_idronaut_intersect_nearest,idronaut_thetis_intersect_nearest=verification(thetis_all_less_depths,idronaut_all_less_depths)\n",
    "    ctd_idronaut_intersect_nearest,idronaut_ctd_intersect_nearest=verification(ctd_all_less_depths,idronaut_all_less_depths)\n",
    "    idronaut_tchain_intersect_nearest,tchain_idronaut_intersect_nearest=verification(idronaut_all_less_depths,tchain_all_30mins)\n",
    "    thetis_idronaut_intersect_nearest_night,idronaut_thetis_intersect_nearest_night=verification(thetis_all_less_depths_night,idronaut_all_less_depths_night)\n",
    "    thetis_pp_par_intersect_nearest,pp_par_thetis_intersect_nearest=verification(thetis_all_less_depths,pp_par_all_30mins)\n",
    "    ctd_pp_do_intersect_nearest,pp_do_ctd_intersect_nearest=verification(ctd_all_less_depths,pp_do_all_30mins) \n",
    "    thetis_idronaut_intersect_nearest_night,idronaut_thetis_intersect_nearest_night=verification(thetis_all_less_depths_night,idronaut_all_less_depths_night)\n",
    "    ctd_idronaut_intersect_nearest_night,idronaut_ctd_intersect_nearest_night=verification(ctd_all_less_depths_night,idronaut_all_less_depths_night)\n",
    "    thetis_pp_do_intersect_nearest,pp_do_thetis_intersect_nearest=verification(thetis_all_less_depths,pp_do_all_30mins)\n",
    "except:\n",
    "    log(\"failed to select matching observations between instruments\")"
   ]
  },
  {
   "cell_type": "code",
   "execution_count": 25,
   "metadata": {},
   "outputs": [],
   "source": [
    "thetis_all = None\n",
    "idronaut_all = None\n",
    "ctd_all = None\n",
    "pp_do_all= None\n",
    "pp_par_all= None\n",
    "tchain_all= None\n",
    "pp_do_all_30mins= None\n",
    "pp_par_all_30mins= None\n",
    "tchain_all_30mins= None"
   ]
  },
  {
   "cell_type": "code",
   "execution_count": 26,
   "metadata": {
    "scrolled": true
   },
   "outputs": [
    {
     "name": "stderr",
     "output_type": "stream",
     "text": [
      "/Users/mwegmann/miniconda2/envs/temprec/lib/python3.7/site-packages/dask/array/numpy_compat.py:41: RuntimeWarning: invalid value encountered in true_divide\n",
      "  x = np.divide(x1, x2, out)\n",
      "/Users/mwegmann/miniconda2/envs/temprec/lib/python3.7/site-packages/dask/array/numpy_compat.py:41: RuntimeWarning: invalid value encountered in true_divide\n",
      "  x = np.divide(x1, x2, out)\n",
      "/Users/mwegmann/miniconda2/envs/temprec/lib/python3.7/site-packages/dask/array/numpy_compat.py:41: RuntimeWarning: invalid value encountered in true_divide\n",
      "  x = np.divide(x1, x2, out)\n",
      "/Users/mwegmann/miniconda2/envs/temprec/lib/python3.7/site-packages/dask/array/numpy_compat.py:41: RuntimeWarning: invalid value encountered in true_divide\n",
      "  x = np.divide(x1, x2, out)\n",
      "/Users/mwegmann/miniconda2/envs/temprec/lib/python3.7/site-packages/dask/array/numpy_compat.py:41: RuntimeWarning: invalid value encountered in true_divide\n",
      "  x = np.divide(x1, x2, out)\n"
     ]
    }
   ],
   "source": [
    "# this vastly increases the plotting speed below\n",
    "#log(\"load highres data into memory\")\n",
    "pp_do_thetis_intersect_nearest=pp_do_thetis_intersect_nearest.load()\n",
    "pp_par_thetis_intersect_nearest=pp_par_thetis_intersect_nearest.load()\n",
    "tchain_thetis_intersect_nearest=tchain_thetis_intersect_nearest.load()\n",
    "tchain_idronaut_intersect_nearest=tchain_idronaut_intersect_nearest.load()\n",
    "pp_do_ctd_intersect_nearest=pp_do_ctd_intersect_nearest.load()"
   ]
  },
  {
   "cell_type": "markdown",
   "metadata": {},
   "source": [
    "## Plotting"
   ]
  },
  {
   "cell_type": "markdown",
   "metadata": {},
   "source": [
    "### Thetis vs Manual CTD"
   ]
  },
  {
   "cell_type": "code",
   "execution_count": 27,
   "metadata": {},
   "outputs": [
    {
     "name": "stdout",
     "output_type": "stream",
     "text": [
      "10:56:04.368615   plotting verification Thetis vs Manual CTD\n",
      "Figure saved: Thetis CTD vs LéXPLORE CTD Chlorophyll a depth.pdf\n",
      "Figure saved: Thetis CTD vs LéXPLORE CTD Chlorophyll a date.pdf\n",
      "Figure saved: Thetis CTD vs LéXPLORE CTD temperature depth.pdf\n",
      "Figure saved: Thetis CTD vs LéXPLORE CTD temperature date.pdf\n",
      "Figure saved: Thetis CTD vs LéXPLORE CTD salinity depth.pdf\n",
      "Figure saved: Thetis CTD vs LéXPLORE CTD salinity date.pdf\n",
      "Figure saved: Thetis CTD vs LéXPLORE CTD conductivity depth.pdf\n",
      "Figure saved: Thetis CTD vs LéXPLORE CTD conductivity date.pdf\n",
      "Figure saved: Thetis CTD vs LéXPLORE CTD dissolvedoxygen depth.pdf\n",
      "Figure saved: Thetis CTD vs LéXPLORE CTD dissolvedoxygen date.pdf\n"
     ]
    }
   ],
   "source": [
    "log(\"plotting verification Thetis vs Manual CTD\")\n",
    "try:\n",
    "    for i in thetis_ctd_dict:\n",
    "        for b in cc_dict:\n",
    "            ver_plotting(thetis_ctd_intersect_nearest,ctd_thetis_intersect_nearest,output_folder=output_folder,var1=i,var2=i,cc=b)\n",
    "except:\n",
    "    log(\"Failed plotting verification Thetis vs Manual CTD\")"
   ]
  },
  {
   "cell_type": "markdown",
   "metadata": {},
   "source": [
    "### CTD vs Idronaut"
   ]
  },
  {
   "cell_type": "code",
   "execution_count": 28,
   "metadata": {},
   "outputs": [
    {
     "name": "stdout",
     "output_type": "stream",
     "text": [
      "10:57:25.369859   plotting verification manual CTD vs Idronaut\n",
      "Figure saved: LéXPLORE CTD vs Idronaut chlorophyll A depth.pdf\n",
      "Figure saved: LéXPLORE CTD vs Idronaut chlorophyll A date.pdf\n",
      "Figure saved: LéXPLORE CTD vs Idronaut temperature depth.pdf\n",
      "Figure saved: LéXPLORE CTD vs Idronaut temperature date.pdf\n",
      "Figure saved: LéXPLORE CTD vs Idronaut pH depth.pdf\n",
      "Figure saved: LéXPLORE CTD vs Idronaut pH date.pdf\n"
     ]
    }
   ],
   "source": [
    "log(\"plotting verification manual CTD vs Idronaut\")\n",
    "try:\n",
    "    for i in idronaut_ctd_dict:\n",
    "        for b in cc_dict:\n",
    "            ver_plotting(ctd_idronaut_intersect_nearest,idronaut_ctd_intersect_nearest,output_folder=output_folder,var1=i,var2=i,cc=b)\n",
    "except:\n",
    "    log(\"Failed plotting verification manual CTD vs Idronaut\")"
   ]
  },
  {
   "cell_type": "markdown",
   "metadata": {},
   "source": [
    "### Idronaut vs Temperature chain"
   ]
  },
  {
   "cell_type": "code",
   "execution_count": 29,
   "metadata": {},
   "outputs": [
    {
     "name": "stdout",
     "output_type": "stream",
     "text": [
      "10:57:52.354473   plotting verification Idronaut vs Temperature Chain\n",
      "Figure saved: Idronaut vs Temperature Chain temperature depth.pdf\n",
      "Figure saved: Idronaut vs Temperature Chain temperature date.pdf\n"
     ]
    }
   ],
   "source": [
    "log(\"plotting verification Idronaut vs Temperature Chain\")\n",
    "try:\n",
    "    for b in cc_dict:\n",
    "        ver_plotting_tchain(idronaut_tchain_intersect_nearest,tchain_idronaut_intersect_nearest,\"temp\",output_folder,cc=b)\n",
    "except:\n",
    "    log(\"Failed plotting verification Idronaut vs Temperature Chain\")"
   ]
  },
  {
   "cell_type": "markdown",
   "metadata": {},
   "source": [
    "### Thetis vs Temperature chain"
   ]
  },
  {
   "cell_type": "code",
   "execution_count": 30,
   "metadata": {},
   "outputs": [
    {
     "name": "stdout",
     "output_type": "stream",
     "text": [
      "11:01:28.158546   plotting verification Thetis vs Temperature Chain\n",
      "Figure saved: Thetis CTD vs Temperature Chain temperature depth.pdf\n",
      "Figure saved: Thetis CTD vs Temperature Chain temperature date.pdf\n"
     ]
    }
   ],
   "source": [
    "log(\"plotting verification Thetis vs Temperature Chain\")\n",
    "try:\n",
    "    for b in cc_dict:\n",
    "        ver_plotting_tchain(thetis_tchain_intersect_nearest,tchain_thetis_intersect_nearest,\"temp\",output_folder,cc=b)\n",
    "except:\n",
    "    log(\"Failed plotting verification Thetis vs Temperature Chain\")"
   ]
  },
  {
   "cell_type": "markdown",
   "metadata": {},
   "source": [
    "### Thetis vs Idronaut"
   ]
  },
  {
   "cell_type": "code",
   "execution_count": 31,
   "metadata": {},
   "outputs": [
    {
     "name": "stdout",
     "output_type": "stream",
     "text": [
      "11:05:24.071818   plotting verification Thetis vs Idronaut\n",
      "Figure saved: Thetis CTD vs Idronaut Chlorophyll a depth.pdf\n",
      "Figure saved: Thetis CTD vs Idronaut Chlorophyll a date.pdf\n",
      "Figure saved: Thetis CTD vs Idronaut temperature depth.pdf\n",
      "Figure saved: Thetis CTD vs Idronaut temperature date.pdf\n",
      "Figure saved: Thetis CTD vs Idronaut salinity depth.pdf\n",
      "Figure saved: Thetis CTD vs Idronaut salinity date.pdf\n",
      "Figure saved: Thetis CTD vs Idronaut conductivity depth.pdf\n",
      "Figure saved: Thetis CTD vs Idronaut conductivity date.pdf\n"
     ]
    }
   ],
   "source": [
    "log(\"plotting verification Thetis vs Idronaut\")\n",
    "try:\n",
    "    for i in idronaut_thetis_dict:\n",
    "        for b in cc_dict:\n",
    "            ver_plotting(thetis_idronaut_intersect_nearest,idronaut_thetis_intersect_nearest,output_folder=output_folder,var1=i,var2=i,cc=b)\n",
    "except:\n",
    "    log(\"Failed plotting verification Thetis vs Idronaut\")"
   ]
  },
  {
   "cell_type": "markdown",
   "metadata": {},
   "source": [
    "### Thetis vs PP Mooring"
   ]
  },
  {
   "cell_type": "code",
   "execution_count": 34,
   "metadata": {},
   "outputs": [
    {
     "name": "stdout",
     "output_type": "stream",
     "text": [
      "11:10:30.184006   plotting verification Idronaut vs PP Mooring\n",
      "Figure saved: Thetis CTD vs PP Mooring photosynthetically active radiation 5, 10, 30m depth.pdf\n",
      "Figure saved: Thetis CTD vs PP Mooring dissolvedoxygen 5, 10, 30m depth.pdf\n",
      "Figure saved: Thetis CTD vs PP Mooring photosynthetically active radiation 5, 10, 30m date.pdf\n",
      "Figure saved: Thetis CTD vs PP Mooring dissolvedoxygen 5, 10, 30m date.pdf\n"
     ]
    }
   ],
   "source": [
    "log(\"plotting verification Thetis vs PP Mooring\")\n",
    "try:\n",
    "    for b in cc_dict:\n",
    "        ver_plotting_pp(thetis_pp_par_intersect_nearest,pp_par_thetis_intersect_nearest,\"par\",output_folder=output_folder,cc=b)\n",
    "        ver_plotting_pp(thetis_pp_do_intersect_nearest,pp_do_thetis_intersect_nearest,\"do\",output_folder=output_folder,cc=b)\n",
    "except:\n",
    "    log(\"Failed plotting verification Thetis vs PP Mooring\")"
   ]
  },
  {
   "cell_type": "markdown",
   "metadata": {},
   "source": [
    "### Manual CTD vs PP Mooring DO"
   ]
  },
  {
   "cell_type": "code",
   "execution_count": 35,
   "metadata": {},
   "outputs": [
    {
     "name": "stdout",
     "output_type": "stream",
     "text": [
      "11:46:22.076771   plotting verification Manual CTD vs PP Mooring\n",
      "Figure saved: LéXPLORE CTD vs PP Mooring oxygen concentration 5, 10, 30m depth.pdf\n",
      "Figure saved: LéXPLORE CTD vs PP Mooring oxygen concentration 5, 10, 30m date.pdf\n"
     ]
    }
   ],
   "source": [
    "log(\"plotting verification Manual CTD vs PP Mooring\")\n",
    "try:\n",
    "    for b in cc_dict:\n",
    "        ver_plotting_pp(ctd_pp_do_intersect_nearest,pp_do_ctd_intersect_nearest,\"do\",output_folder=output_folder,cc=b)\n",
    "except:\n",
    "    log(\"Failed plotting verification Manual CTD vs PP Mooring\")"
   ]
  },
  {
   "cell_type": "code",
   "execution_count": 36,
   "metadata": {},
   "outputs": [],
   "source": [
    "# end of verification"
   ]
  }
 ],
 "metadata": {
  "kernelspec": {
   "display_name": "Python (temprec)",
   "language": "python",
   "name": "temprec"
  },
  "language_info": {
   "codemirror_mode": {
    "name": "ipython",
    "version": 3
   },
   "file_extension": ".py",
   "mimetype": "text/x-python",
   "name": "python",
   "nbconvert_exporter": "python",
   "pygments_lexer": "ipython3",
   "version": "3.7.9"
  }
 },
 "nbformat": 4,
 "nbformat_minor": 2
}
